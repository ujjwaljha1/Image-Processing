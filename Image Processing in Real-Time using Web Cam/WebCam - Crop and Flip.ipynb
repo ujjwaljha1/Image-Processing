{
 "cells": [
  {
   "cell_type": "code",
   "execution_count": 2,
   "id": "b45eb0cb",
   "metadata": {},
   "outputs": [],
   "source": [
    "import cv2 as cv\n",
    "import numpy as np\n",
    "import matplotlib.pyplot as plt"
   ]
  },
  {
   "cell_type": "markdown",
   "id": "b84dfb70",
   "metadata": {},
   "source": [
    "### 1. Crop and Flip"
   ]
  },
  {
   "cell_type": "code",
   "execution_count": 1,
   "id": "3fddb8d3",
   "metadata": {},
   "outputs": [],
   "source": [
    "import cv2 as cv\n",
    "\n",
    "# Initialize webcam\n",
    "cam = cv.VideoCapture(0)\n",
    "\n",
    "while True:\n",
    "    # Read frame from webcam\n",
    "    _, img = cam.read()\n",
    "    img = cv.flip(img, 1) \n",
    "\n",
    "    # Crop the frame\n",
    "    frame = img[100:500, 400:800, :]\n",
    "\n",
    "    # Display the frames\n",
    "    cv.imshow(\"Frame\", img)\n",
    "    cv.imshow(\"Cropped\", frame)\n",
    "\n",
    "    # Wait for key press\n",
    "    key = cv.waitKey(20)\n",
    "    \n",
    "    # If 's' key is pressed, save the photo\n",
    "    if key == ord('s'):\n",
    "        cv.imwrite('captured_image.jpg', img)\n",
    "        print(\"Photo taken and saved as 'captured_image.jpg'\")\n",
    "\n",
    "    # If 'Esc' key is pressed, exit the loop\n",
    "    if key == 27:\n",
    "        cam.release()\n",
    "        cv.destroyAllWindows()\n",
    "        break\n"
   ]
  },
  {
   "cell_type": "code",
   "execution_count": 5,
   "id": "7eb784fe",
   "metadata": {},
   "outputs": [
    {
     "data": {
      "text/plain": [
       "(480, 640, 3)"
      ]
     },
     "execution_count": 5,
     "metadata": {},
     "output_type": "execute_result"
    },
    {
     "name": "stdout",
     "output_type": "stream",
     "text": [
      "ERROR! Session/line number was not unique in database. History logging moved to new session 235\n"
     ]
    }
   ],
   "source": [
    "img.shape"
   ]
  }
 ],
 "metadata": {
  "kernelspec": {
   "display_name": "Python 3 (ipykernel)",
   "language": "python",
   "name": "python3"
  },
  "language_info": {
   "codemirror_mode": {
    "name": "ipython",
    "version": 3
   },
   "file_extension": ".py",
   "mimetype": "text/x-python",
   "name": "python",
   "nbconvert_exporter": "python",
   "pygments_lexer": "ipython3",
   "version": "3.10.6"
  }
 },
 "nbformat": 4,
 "nbformat_minor": 5
}
